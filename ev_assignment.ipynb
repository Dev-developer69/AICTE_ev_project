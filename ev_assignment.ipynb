{
 "cells": [
  {
   "cell_type": "code",
   "execution_count": 2,
   "id": "22a80c0f-94e1-4233-90fd-58c1f9a65b3e",
   "metadata": {},
   "outputs": [
    {
     "name": "stdout",
     "output_type": "stream",
     "text": [
      "                Date          County State Vehicle Primary Use  \\\n",
      "0  September 30 2022       Riverside    CA           Passenger   \n",
      "1   December 31 2022  Prince William    VA           Passenger   \n",
      "2    January 31 2020          Dakota    MN           Passenger   \n",
      "3       June 30 2022           Ferry    WA               Truck   \n",
      "4       July 31 2021         Douglas    CO           Passenger   \n",
      "\n",
      "  Battery Electric Vehicles (BEVs) Plug-In Hybrid Electric Vehicles (PHEVs)  \\\n",
      "0                                7                                        0   \n",
      "1                                1                                        2   \n",
      "2                                0                                        1   \n",
      "3                                0                                        0   \n",
      "4                                0                                        1   \n",
      "\n",
      "  Electric Vehicle (EV) Total Non-Electric Vehicle Total Total Vehicles  \\\n",
      "0                           7                        460            467   \n",
      "1                           3                        188            191   \n",
      "2                           1                         32             33   \n",
      "3                           0                      3,575          3,575   \n",
      "4                           1                         83             84   \n",
      "\n",
      "   Percent Electric Vehicles  \n",
      "0                       1.50  \n",
      "1                       1.57  \n",
      "2                       3.03  \n",
      "3                       0.00  \n",
      "4                       1.19  \n"
     ]
    }
   ],
   "source": [
    "# imoporting necessaty libraries\n",
    "import pandas as pd\n",
    "import numpy as np\n",
    "import matplotlib.pyplot as plt\n",
    "# reading the dataset using pandas \n",
    "data=pd.read_csv(\"ev_dataset.csv\")\n",
    "\n",
    "# displaying the first five rows of the dataset\n",
    "print(data.head())"
   ]
  },
  {
   "cell_type": "code",
   "execution_count": 3,
   "id": "851a289c-6321-4824-9249-37afe9760a6c",
   "metadata": {},
   "outputs": [
    {
     "name": "stdout",
     "output_type": "stream",
     "text": [
      "(20819, 10)\n",
      "<class 'pandas.core.frame.DataFrame'>\n",
      "RangeIndex: 20819 entries, 0 to 20818\n",
      "Data columns (total 10 columns):\n",
      " #   Column                                    Non-Null Count  Dtype  \n",
      "---  ------                                    --------------  -----  \n",
      " 0   Date                                      20819 non-null  object \n",
      " 1   County                                    20733 non-null  object \n",
      " 2   State                                     20733 non-null  object \n",
      " 3   Vehicle Primary Use                       20819 non-null  object \n",
      " 4   Battery Electric Vehicles (BEVs)          20819 non-null  object \n",
      " 5   Plug-In Hybrid Electric Vehicles (PHEVs)  20819 non-null  object \n",
      " 6   Electric Vehicle (EV) Total               20819 non-null  object \n",
      " 7   Non-Electric Vehicle Total                20819 non-null  object \n",
      " 8   Total Vehicles                            20819 non-null  object \n",
      " 9   Percent Electric Vehicles                 20819 non-null  float64\n",
      "dtypes: float64(1), object(9)\n",
      "memory usage: 1.6+ MB\n",
      "None\n",
      "Date                                         0\n",
      "County                                      86\n",
      "State                                       86\n",
      "Vehicle Primary Use                          0\n",
      "Battery Electric Vehicles (BEVs)             0\n",
      "Plug-In Hybrid Electric Vehicles (PHEVs)     0\n",
      "Electric Vehicle (EV) Total                  0\n",
      "Non-Electric Vehicle Total                   0\n",
      "Total Vehicles                               0\n",
      "Percent Electric Vehicles                    0\n",
      "dtype: int64\n"
     ]
    }
   ],
   "source": [
    "# Displaying the shape and columns of the dataset\n",
    "print(data.shape)\n",
    "\n",
    "# displaying data types and class\n",
    "print(data.info())\n",
    "\n",
    "# checking for the null values in the dataset\n",
    "print(data.isnull().sum())"
   ]
  },
  {
   "cell_type": "code",
   "execution_count": 4,
   "id": "7640d4a0-650d-428f-bd21-77609383a98e",
   "metadata": {},
   "outputs": [
    {
     "name": "stdout",
     "output_type": "stream",
     "text": [
      "Number of outliers in 'Percent Electric Vehicles': 2476\n"
     ]
    }
   ],
   "source": [
    "# checking for outliers \n",
    "q1=data[\"Percent Electric Vehicles\"].quantile(0.25)\n",
    "q3=data[\"Percent Electric Vehicles\"].quantile(0.75)\n",
    "iqr=q3-q1\n",
    "lower_bound=q1-1.5*iqr\n",
    "upper_bound=q3+1.5*iqr\n",
    "\n",
    "# Identify outliers\n",
    "outliers = data[(data['Percent Electric Vehicles'] < lower_bound) | (data['Percent Electric Vehicles'] > upper_bound)]\n",
    "print(\"Number of outliers in 'Percent Electric Vehicles':\", outliers.shape[0])"
   ]
  },
  {
   "cell_type": "code",
   "execution_count": 5,
   "id": "05fa3415-8aa7-4ff2-80f1-c94ac6176ff3",
   "metadata": {},
   "outputs": [
    {
     "name": "stdout",
     "output_type": "stream",
     "text": [
      "Missing after fill:\n",
      "County    0\n",
      "State     0\n",
      "dtype: int64\n"
     ]
    },
    {
     "data": {
      "text/html": [
       "<div>\n",
       "<style scoped>\n",
       "    .dataframe tbody tr th:only-of-type {\n",
       "        vertical-align: middle;\n",
       "    }\n",
       "\n",
       "    .dataframe tbody tr th {\n",
       "        vertical-align: top;\n",
       "    }\n",
       "\n",
       "    .dataframe thead th {\n",
       "        text-align: right;\n",
       "    }\n",
       "</style>\n",
       "<table border=\"1\" class=\"dataframe\">\n",
       "  <thead>\n",
       "    <tr style=\"text-align: right;\">\n",
       "      <th></th>\n",
       "      <th>Date</th>\n",
       "      <th>County</th>\n",
       "      <th>State</th>\n",
       "      <th>Vehicle Primary Use</th>\n",
       "      <th>Battery Electric Vehicles (BEVs)</th>\n",
       "      <th>Plug-In Hybrid Electric Vehicles (PHEVs)</th>\n",
       "      <th>Electric Vehicle (EV) Total</th>\n",
       "      <th>Non-Electric Vehicle Total</th>\n",
       "      <th>Total Vehicles</th>\n",
       "      <th>Percent Electric Vehicles</th>\n",
       "    </tr>\n",
       "  </thead>\n",
       "  <tbody>\n",
       "  </tbody>\n",
       "</table>\n",
       "</div>"
      ],
      "text/plain": [
       "Empty DataFrame\n",
       "Columns: [Date, County, State, Vehicle Primary Use, Battery Electric Vehicles (BEVs), Plug-In Hybrid Electric Vehicles (PHEVs), Electric Vehicle (EV) Total, Non-Electric Vehicle Total, Total Vehicles, Percent Electric Vehicles]\n",
       "Index: []"
      ]
     },
     "execution_count": 5,
     "metadata": {},
     "output_type": "execute_result"
    }
   ],
   "source": [
    "# data cleaning\n",
    "\n",
    "data['Date']=pd.to_datetime(data['Date'],errors='coerce',format='%Y-%m-%d')\n",
    "\n",
    "data=data[data['Date'].notnull()]\n",
    "\n",
    "data=data[data['Percent Electric Vehicles'].notnull()]\n",
    "data['County']=data['County'].fillna('unknown')\n",
    "data['State']=data['State'].fillna(\"unknown\")\n",
    "print(\"Missing after fill:\")\n",
    "print(data[['County', 'State']].isnull().sum())\n",
    "\n",
    "data.head()"
   ]
  },
  {
   "cell_type": "code",
   "execution_count": 9,
   "id": "cb92e9fe-a00a-4b4d-b6b7-c05f305494f7",
   "metadata": {},
   "outputs": [
    {
     "name": "stdout",
     "output_type": "stream",
     "text": [
      "Number of outliers in 'Percent Electric Vehicles': 0\n"
     ]
    }
   ],
   "source": [
    "\n",
    "data['Percent Electric Vehicles'] = np.where(data['Percent Electric Vehicles'] > upper_bound, upper_bound,\n",
    "                                 np.where(data['Percent Electric Vehicles'] < lower_bound, lower_bound, data['Percent Electric Vehicles']))\n",
    "\n",
    "# Identify outliers\n",
    "outliers = data[(data['Percent Electric Vehicles'] < lower_bound) | (data['Percent Electric Vehicles'] > upper_bound)]\n",
    "print(\"Number of outliers in 'Percent Electric Vehicles':\", outliers.shape[0])"
   ]
  },
  {
   "cell_type": "code",
   "execution_count": null,
   "id": "3af44491-c3ad-4a80-a5f5-ea98e45b5fdc",
   "metadata": {},
   "outputs": [],
   "source": []
  }
 ],
 "metadata": {
  "kernelspec": {
   "display_name": "Python [conda env:base] *",
   "language": "python",
   "name": "conda-base-py"
  },
  "language_info": {
   "codemirror_mode": {
    "name": "ipython",
    "version": 3
   },
   "file_extension": ".py",
   "mimetype": "text/x-python",
   "name": "python",
   "nbconvert_exporter": "python",
   "pygments_lexer": "ipython3",
   "version": "3.12.7"
  }
 },
 "nbformat": 4,
 "nbformat_minor": 5
}
